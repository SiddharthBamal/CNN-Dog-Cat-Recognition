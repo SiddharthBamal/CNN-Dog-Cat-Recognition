{
 "cells": [
  {
   "cell_type": "markdown",
   "id": "728b0fee-661a-40a0-8a8b-86679a4ee25a",
   "metadata": {},
   "source": [
    "**** Convolutional Neural Network ****"
   ]
  },
  {
   "cell_type": "markdown",
   "id": "6477818c-aa1e-41b2-b934-92b3ceaeb35a",
   "metadata": {},
   "source": [
    "* Importing the libraries"
   ]
  },
  {
   "cell_type": "code",
   "execution_count": 6,
   "id": "3d07d562-bca4-4651-ad6f-efbc23991229",
   "metadata": {},
   "outputs": [],
   "source": [
    "import tensorflow as tf\n",
    "from tensorflow.keras.preprocessing.image import ImageDataGenerator"
   ]
  },
  {
   "cell_type": "code",
   "execution_count": 7,
   "id": "290975bd-5f20-4fa5-9fdf-7082d54ae988",
   "metadata": {},
   "outputs": [
    {
     "data": {
      "text/plain": [
       "'2.17.0'"
      ]
     },
     "execution_count": 7,
     "metadata": {},
     "output_type": "execute_result"
    }
   ],
   "source": [
    "tf.__version__"
   ]
  },
  {
   "cell_type": "markdown",
   "id": "7863b5e4-5840-4b6b-9b36-118a2dae3bcf",
   "metadata": {},
   "source": [
    "**** Part 1 - Data Preprocessing ****"
   ]
  },
  {
   "cell_type": "markdown",
   "id": "efd75c08-7b23-437a-9962-0c2451282c6b",
   "metadata": {},
   "source": [
    "* Preprocessing the Training set"
   ]
  },
  {
   "cell_type": "code",
   "execution_count": 12,
   "id": "7baf8f93-2175-4817-8a3c-cb6057547d0c",
   "metadata": {},
   "outputs": [
    {
     "name": "stdout",
     "output_type": "stream",
     "text": [
      "Found 8000 images belonging to 2 classes.\n"
     ]
    }
   ],
   "source": [
    "train_datagen = ImageDataGenerator(rescale = 1./255,\n",
    "                                   shear_range = 0.2,\n",
    "                                   zoom_range = 0.2,\n",
    "                                   horizontal_flip = True)\n",
    "training_set = train_datagen.flow_from_directory('training_set',\n",
    "                                                 target_size = (64, 64),\n",
    "                                                 batch_size = 32,\n",
    "                                                 class_mode = 'binary')"
   ]
  },
  {
   "cell_type": "markdown",
   "id": "f7c64129-e952-4423-b3ef-70150063f087",
   "metadata": {},
   "source": [
    "* Preprocessing the Test set"
   ]
  },
  {
   "cell_type": "code",
   "execution_count": 14,
   "id": "3916be96-51b1-43c2-af1a-48d00d5e03b9",
   "metadata": {},
   "outputs": [
    {
     "name": "stdout",
     "output_type": "stream",
     "text": [
      "Found 2000 images belonging to 2 classes.\n"
     ]
    }
   ],
   "source": [
    "test_datagen = ImageDataGenerator(rescale = 1./255)\n",
    "test_set = test_datagen.flow_from_directory('test_set',\n",
    "                                            target_size = (64, 64),\n",
    "                                            batch_size = 32,\n",
    "                                            class_mode = 'binary')"
   ]
  },
  {
   "cell_type": "markdown",
   "id": "dcd949b8-af4b-4443-8d4b-59877b7ca595",
   "metadata": {},
   "source": [
    "**** Part 2 - Building the CNN ****"
   ]
  },
  {
   "cell_type": "markdown",
   "id": "b3f9e785-9391-4f21-a116-a050781866a2",
   "metadata": {},
   "source": [
    "* Initialising the CNN"
   ]
  },
  {
   "cell_type": "code",
   "execution_count": 18,
   "id": "d495e13a-d972-4560-bc2f-949bc24be3d3",
   "metadata": {},
   "outputs": [],
   "source": [
    "cnn = tf.keras.models.Sequential()"
   ]
  },
  {
   "cell_type": "markdown",
   "id": "5785b543-fe94-4f59-bb49-82a3e0502e59",
   "metadata": {},
   "source": [
    "* Step 1 - Convolution"
   ]
  },
  {
   "cell_type": "code",
   "execution_count": 21,
   "id": "d37ef8c2-0da7-455b-90d3-617c5bc5153c",
   "metadata": {},
   "outputs": [
    {
     "name": "stderr",
     "output_type": "stream",
     "text": [
      "A:\\ana\\Lib\\site-packages\\keras\\src\\layers\\convolutional\\base_conv.py:107: UserWarning: Do not pass an `input_shape`/`input_dim` argument to a layer. When using Sequential models, prefer using an `Input(shape)` object as the first layer in the model instead.\n",
      "  super().__init__(activity_regularizer=activity_regularizer, **kwargs)\n"
     ]
    }
   ],
   "source": [
    "cnn.add(tf.keras.layers.Conv2D(filters=32, kernel_size=3, activation='relu', input_shape=[64, 64, 3]))"
   ]
  },
  {
   "cell_type": "markdown",
   "id": "e212330d-c83c-4b23-9e59-905035061246",
   "metadata": {},
   "source": [
    "* Step 2 - Pooling"
   ]
  },
  {
   "cell_type": "code",
   "execution_count": 24,
   "id": "e5df1924-8566-450e-ac04-be1bd95e111c",
   "metadata": {},
   "outputs": [],
   "source": [
    "cnn.add(tf.keras.layers.MaxPool2D(pool_size=2, strides=2))"
   ]
  },
  {
   "cell_type": "markdown",
   "id": "80cd6529-afd5-4741-9cb2-b94da4672085",
   "metadata": {},
   "source": [
    "* Adding a second convolutional layer"
   ]
  },
  {
   "cell_type": "code",
   "execution_count": 27,
   "id": "8d4bb9cc-2512-4485-8ba9-b67758b77b1e",
   "metadata": {},
   "outputs": [],
   "source": [
    "cnn.add(tf.keras.layers.Conv2D(filters=32, kernel_size=3, activation='relu'))\n",
    "cnn.add(tf.keras.layers.MaxPool2D(pool_size=2, strides=2))"
   ]
  },
  {
   "cell_type": "markdown",
   "id": "c7e52602-fdac-41d5-857f-fefe59c87cb2",
   "metadata": {},
   "source": [
    "* Step 3 - Flattening"
   ]
  },
  {
   "cell_type": "code",
   "execution_count": 30,
   "id": "579b5bdd-920e-4b5b-9558-c2f249b4a5b2",
   "metadata": {},
   "outputs": [],
   "source": [
    "cnn.add(tf.keras.layers.Flatten())"
   ]
  },
  {
   "cell_type": "markdown",
   "id": "2f0e1d4e-8d9e-4268-8285-1239e5ec6fa2",
   "metadata": {},
   "source": [
    "* Step 4 - Full Connection"
   ]
  },
  {
   "cell_type": "code",
   "execution_count": 33,
   "id": "bf042257-4e3c-49f3-a35b-4d63b9701ed1",
   "metadata": {},
   "outputs": [],
   "source": [
    "cnn.add(tf.keras.layers.Dense(units=128, activation='relu'))"
   ]
  },
  {
   "cell_type": "markdown",
   "id": "e3f3f24b-d488-4da6-981a-ef37825c6dc3",
   "metadata": {},
   "source": [
    "* Step 5 - Output Layer"
   ]
  },
  {
   "cell_type": "code",
   "execution_count": 36,
   "id": "2929132c-8ccd-48fc-b3b3-b1e0a27b3635",
   "metadata": {},
   "outputs": [],
   "source": [
    "cnn.add(tf.keras.layers.Dense(units=1, activation='sigmoid'))"
   ]
  },
  {
   "cell_type": "markdown",
   "id": "dace2e4e-40b9-4e58-8997-ad1fd0c37a99",
   "metadata": {},
   "source": [
    "**** Part 3 - Training the CNN ****"
   ]
  },
  {
   "cell_type": "markdown",
   "id": "c37de41f-eb04-4e44-9fbf-58cf264b5133",
   "metadata": {},
   "source": [
    "* Compiling the CNN"
   ]
  },
  {
   "cell_type": "code",
   "execution_count": 40,
   "id": "6ab48020-96ab-4c79-a197-42fc266287da",
   "metadata": {},
   "outputs": [],
   "source": [
    "cnn.compile(optimizer = 'adam', loss = 'binary_crossentropy', metrics = ['accuracy'])"
   ]
  },
  {
   "cell_type": "markdown",
   "id": "8df72109-1103-4cc4-bdc8-45934885ace4",
   "metadata": {},
   "source": [
    "* Training the CNN on the Training set and evaluating it on the Test set"
   ]
  },
  {
   "cell_type": "code",
   "execution_count": 43,
   "id": "586ac233-0c3f-4b63-8943-b0b5aaaa8743",
   "metadata": {},
   "outputs": [
    {
     "name": "stdout",
     "output_type": "stream",
     "text": [
      "Epoch 1/25\n"
     ]
    },
    {
     "name": "stderr",
     "output_type": "stream",
     "text": [
      "A:\\ana\\Lib\\site-packages\\keras\\src\\trainers\\data_adapters\\py_dataset_adapter.py:122: UserWarning: Your `PyDataset` class should call `super().__init__(**kwargs)` in its constructor. `**kwargs` can include `workers`, `use_multiprocessing`, `max_queue_size`. Do not pass these arguments to `fit()`, as they will be ignored.\n",
      "  self._warn_if_super_not_called()\n"
     ]
    },
    {
     "name": "stdout",
     "output_type": "stream",
     "text": [
      "\u001b[1m250/250\u001b[0m \u001b[32m━━━━━━━━━━━━━━━━━━━━\u001b[0m\u001b[37m\u001b[0m \u001b[1m115s\u001b[0m 443ms/step - accuracy: 0.5655 - loss: 0.6814 - val_accuracy: 0.6700 - val_loss: 0.6127\n",
      "Epoch 2/25\n",
      "\u001b[1m250/250\u001b[0m \u001b[32m━━━━━━━━━━━━━━━━━━━━\u001b[0m\u001b[37m\u001b[0m \u001b[1m45s\u001b[0m 176ms/step - accuracy: 0.6603 - loss: 0.6130 - val_accuracy: 0.7165 - val_loss: 0.5613\n",
      "Epoch 3/25\n",
      "\u001b[1m250/250\u001b[0m \u001b[32m━━━━━━━━━━━━━━━━━━━━\u001b[0m\u001b[37m\u001b[0m \u001b[1m39s\u001b[0m 153ms/step - accuracy: 0.7242 - loss: 0.5508 - val_accuracy: 0.7285 - val_loss: 0.5390\n",
      "Epoch 4/25\n",
      "\u001b[1m250/250\u001b[0m \u001b[32m━━━━━━━━━━━━━━━━━━━━\u001b[0m\u001b[37m\u001b[0m \u001b[1m40s\u001b[0m 157ms/step - accuracy: 0.7410 - loss: 0.5195 - val_accuracy: 0.7260 - val_loss: 0.5440\n",
      "Epoch 5/25\n",
      "\u001b[1m250/250\u001b[0m \u001b[32m━━━━━━━━━━━━━━━━━━━━\u001b[0m\u001b[37m\u001b[0m \u001b[1m38s\u001b[0m 148ms/step - accuracy: 0.7650 - loss: 0.4869 - val_accuracy: 0.7325 - val_loss: 0.5217\n",
      "Epoch 6/25\n",
      "\u001b[1m250/250\u001b[0m \u001b[32m━━━━━━━━━━━━━━━━━━━━\u001b[0m\u001b[37m\u001b[0m \u001b[1m39s\u001b[0m 154ms/step - accuracy: 0.7642 - loss: 0.4849 - val_accuracy: 0.7750 - val_loss: 0.4739\n",
      "Epoch 7/25\n",
      "\u001b[1m250/250\u001b[0m \u001b[32m━━━━━━━━━━━━━━━━━━━━\u001b[0m\u001b[37m\u001b[0m \u001b[1m41s\u001b[0m 161ms/step - accuracy: 0.7916 - loss: 0.4451 - val_accuracy: 0.7870 - val_loss: 0.4507\n",
      "Epoch 8/25\n",
      "\u001b[1m250/250\u001b[0m \u001b[32m━━━━━━━━━━━━━━━━━━━━\u001b[0m\u001b[37m\u001b[0m \u001b[1m44s\u001b[0m 175ms/step - accuracy: 0.7935 - loss: 0.4344 - val_accuracy: 0.7905 - val_loss: 0.4657\n",
      "Epoch 9/25\n",
      "\u001b[1m250/250\u001b[0m \u001b[32m━━━━━━━━━━━━━━━━━━━━\u001b[0m\u001b[37m\u001b[0m \u001b[1m40s\u001b[0m 156ms/step - accuracy: 0.7979 - loss: 0.4376 - val_accuracy: 0.7995 - val_loss: 0.4402\n",
      "Epoch 10/25\n",
      "\u001b[1m250/250\u001b[0m \u001b[32m━━━━━━━━━━━━━━━━━━━━\u001b[0m\u001b[37m\u001b[0m \u001b[1m38s\u001b[0m 150ms/step - accuracy: 0.8117 - loss: 0.4056 - val_accuracy: 0.7885 - val_loss: 0.4912\n",
      "Epoch 11/25\n",
      "\u001b[1m250/250\u001b[0m \u001b[32m━━━━━━━━━━━━━━━━━━━━\u001b[0m\u001b[37m\u001b[0m \u001b[1m38s\u001b[0m 149ms/step - accuracy: 0.8241 - loss: 0.3892 - val_accuracy: 0.7915 - val_loss: 0.4565\n",
      "Epoch 12/25\n",
      "\u001b[1m250/250\u001b[0m \u001b[32m━━━━━━━━━━━━━━━━━━━━\u001b[0m\u001b[37m\u001b[0m \u001b[1m38s\u001b[0m 150ms/step - accuracy: 0.8250 - loss: 0.3914 - val_accuracy: 0.8090 - val_loss: 0.4421\n",
      "Epoch 13/25\n",
      "\u001b[1m250/250\u001b[0m \u001b[32m━━━━━━━━━━━━━━━━━━━━\u001b[0m\u001b[37m\u001b[0m \u001b[1m37s\u001b[0m 147ms/step - accuracy: 0.8290 - loss: 0.3705 - val_accuracy: 0.8050 - val_loss: 0.4494\n",
      "Epoch 14/25\n",
      "\u001b[1m250/250\u001b[0m \u001b[32m━━━━━━━━━━━━━━━━━━━━\u001b[0m\u001b[37m\u001b[0m \u001b[1m38s\u001b[0m 148ms/step - accuracy: 0.8398 - loss: 0.3589 - val_accuracy: 0.8085 - val_loss: 0.4959\n",
      "Epoch 15/25\n",
      "\u001b[1m250/250\u001b[0m \u001b[32m━━━━━━━━━━━━━━━━━━━━\u001b[0m\u001b[37m\u001b[0m \u001b[1m38s\u001b[0m 150ms/step - accuracy: 0.8562 - loss: 0.3302 - val_accuracy: 0.8150 - val_loss: 0.4384\n",
      "Epoch 16/25\n",
      "\u001b[1m250/250\u001b[0m \u001b[32m━━━━━━━━━━━━━━━━━━━━\u001b[0m\u001b[37m\u001b[0m \u001b[1m39s\u001b[0m 154ms/step - accuracy: 0.8523 - loss: 0.3254 - val_accuracy: 0.7950 - val_loss: 0.4771\n",
      "Epoch 17/25\n",
      "\u001b[1m250/250\u001b[0m \u001b[32m━━━━━━━━━━━━━━━━━━━━\u001b[0m\u001b[37m\u001b[0m \u001b[1m39s\u001b[0m 153ms/step - accuracy: 0.8562 - loss: 0.3130 - val_accuracy: 0.7635 - val_loss: 0.5360\n",
      "Epoch 18/25\n",
      "\u001b[1m250/250\u001b[0m \u001b[32m━━━━━━━━━━━━━━━━━━━━\u001b[0m\u001b[37m\u001b[0m \u001b[1m38s\u001b[0m 149ms/step - accuracy: 0.8731 - loss: 0.2986 - val_accuracy: 0.7930 - val_loss: 0.4992\n",
      "Epoch 19/25\n",
      "\u001b[1m250/250\u001b[0m \u001b[32m━━━━━━━━━━━━━━━━━━━━\u001b[0m\u001b[37m\u001b[0m \u001b[1m38s\u001b[0m 150ms/step - accuracy: 0.8735 - loss: 0.2890 - val_accuracy: 0.8075 - val_loss: 0.4749\n",
      "Epoch 20/25\n",
      "\u001b[1m250/250\u001b[0m \u001b[32m━━━━━━━━━━━━━━━━━━━━\u001b[0m\u001b[37m\u001b[0m \u001b[1m39s\u001b[0m 153ms/step - accuracy: 0.8877 - loss: 0.2659 - val_accuracy: 0.8165 - val_loss: 0.4444\n",
      "Epoch 21/25\n",
      "\u001b[1m250/250\u001b[0m \u001b[32m━━━━━━━━━━━━━━━━━━━━\u001b[0m\u001b[37m\u001b[0m \u001b[1m38s\u001b[0m 150ms/step - accuracy: 0.8895 - loss: 0.2646 - val_accuracy: 0.7905 - val_loss: 0.5062\n",
      "Epoch 22/25\n",
      "\u001b[1m250/250\u001b[0m \u001b[32m━━━━━━━━━━━━━━━━━━━━\u001b[0m\u001b[37m\u001b[0m \u001b[1m38s\u001b[0m 149ms/step - accuracy: 0.8924 - loss: 0.2619 - val_accuracy: 0.7925 - val_loss: 0.5240\n",
      "Epoch 23/25\n",
      "\u001b[1m250/250\u001b[0m \u001b[32m━━━━━━━━━━━━━━━━━━━━\u001b[0m\u001b[37m\u001b[0m \u001b[1m38s\u001b[0m 149ms/step - accuracy: 0.8959 - loss: 0.2446 - val_accuracy: 0.7840 - val_loss: 0.5364\n",
      "Epoch 24/25\n",
      "\u001b[1m250/250\u001b[0m \u001b[32m━━━━━━━━━━━━━━━━━━━━\u001b[0m\u001b[37m\u001b[0m \u001b[1m38s\u001b[0m 149ms/step - accuracy: 0.9047 - loss: 0.2314 - val_accuracy: 0.7995 - val_loss: 0.5339\n",
      "Epoch 25/25\n",
      "\u001b[1m250/250\u001b[0m \u001b[32m━━━━━━━━━━━━━━━━━━━━\u001b[0m\u001b[37m\u001b[0m \u001b[1m38s\u001b[0m 149ms/step - accuracy: 0.9102 - loss: 0.2140 - val_accuracy: 0.8015 - val_loss: 0.5478\n"
     ]
    },
    {
     "data": {
      "text/plain": [
       "<keras.src.callbacks.history.History at 0x1ba4a5f74d0>"
      ]
     },
     "execution_count": 43,
     "metadata": {},
     "output_type": "execute_result"
    }
   ],
   "source": [
    "cnn.fit(x = training_set, validation_data = test_set, epochs = 25)"
   ]
  },
  {
   "cell_type": "markdown",
   "id": "87d2e9d5-2239-4c49-b1c6-aecbe6e66606",
   "metadata": {},
   "source": [
    "**** Part 4 - Making a single prediction ****"
   ]
  },
  {
   "cell_type": "code",
   "execution_count": 46,
   "id": "317b5143-31d2-4de3-85db-d841f4d09a43",
   "metadata": {},
   "outputs": [
    {
     "name": "stdout",
     "output_type": "stream",
     "text": [
      "\u001b[1m1/1\u001b[0m \u001b[32m━━━━━━━━━━━━━━━━━━━━\u001b[0m\u001b[37m\u001b[0m \u001b[1m0s\u001b[0m 108ms/step\n"
     ]
    }
   ],
   "source": [
    "import numpy as np\n",
    "from keras.preprocessing import image\n",
    "test_image = image.load_img('cat_or_dog_1.jpg', target_size = (64, 64))\n",
    "test_image = image.img_to_array(test_image)\n",
    "test_image = np.expand_dims(test_image, axis = 0)\n",
    "result = cnn.predict(test_image)\n",
    "training_set.class_indices\n",
    "if result[0][0] == 1:\n",
    "  prediction = 'dog'\n",
    "else:\n",
    "  prediction = 'cat'"
   ]
  },
  {
   "cell_type": "code",
   "execution_count": 48,
   "id": "09a39fc9-698f-4e2a-99bb-7547143df55d",
   "metadata": {},
   "outputs": [
    {
     "name": "stdout",
     "output_type": "stream",
     "text": [
      "dog\n"
     ]
    }
   ],
   "source": [
    "print(prediction)"
   ]
  },
  {
   "cell_type": "code",
   "execution_count": null,
   "id": "3e6e3e95-93bf-4a63-b40f-5b98b5960c6c",
   "metadata": {},
   "outputs": [],
   "source": []
  }
 ],
 "metadata": {
  "kernelspec": {
   "display_name": "Python 3 (ipykernel)",
   "language": "python",
   "name": "python3"
  },
  "language_info": {
   "codemirror_mode": {
    "name": "ipython",
    "version": 3
   },
   "file_extension": ".py",
   "mimetype": "text/x-python",
   "name": "python",
   "nbconvert_exporter": "python",
   "pygments_lexer": "ipython3",
   "version": "3.12.3"
  }
 },
 "nbformat": 4,
 "nbformat_minor": 5
}
